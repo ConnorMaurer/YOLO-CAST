{
 "cells": [
  {
   "cell_type": "markdown",
   "metadata": {},
   "source": [
    "### YOLOv8 demo for CAST"
   ]
  },
  {
   "cell_type": "markdown",
   "metadata": {},
   "source": [
    "<b>Run block for required dependencies:</b>"
   ]
  },
  {
   "cell_type": "code",
   "execution_count": null,
   "metadata": {},
   "outputs": [],
   "source": [
    "# use this block to download requirements into virtual environment\n",
    "%pip install -r requirements.txt"
   ]
  },
  {
   "cell_type": "markdown",
   "metadata": {},
   "source": [
    "<u>Import statements<u>"
   ]
  },
  {
   "cell_type": "code",
   "execution_count": 3,
   "metadata": {},
   "outputs": [],
   "source": [
    "import os\n",
    "from ultralytics import YOLO\n",
    "import cv2\n",
    "import torch\n",
    "import requests\n",
    "import zipfile\n",
    "import shutil"
   ]
  },
  {
   "cell_type": "markdown",
   "metadata": {},
   "source": [
    "<u>Importing training dataset for demo</u>\n",
    "\n",
    "For this demo, we will be training a YOLOv8 on African wildlife imagery pulled from https://ultralytics.com/assets/african-wildlife.zip. From ultralytics, \"This dataset showcases four common animal classes typically found in South African nature reserves. It includes images of African wildlife such as buffalo, elephant, rhino, and zebra, providing valuable insights into their characteristics. Essential for training computer vision algorithms, this dataset aids in identifying animals in various habitats, from zoos to forests, and supports wildlife research.... \n",
    "\n",
    "The African wildlife objects detection dataset is split into three subsets:\n",
    "\n",
    "Training set: Contains 1052 images, each with corresponding annotations.\n",
    "Validation set: Includes 225 images, each with paired annotations.\n",
    "Testing set: Comprises 227 images, each with paired annotations.\""
   ]
  },
  {
   "cell_type": "code",
   "execution_count": 14,
   "metadata": {},
   "outputs": [
    {
     "name": "stdout",
     "output_type": "stream",
     "text": [
      "Extracted files: ['valid', 'video_test.py', 'unneeded_files', '.DS_Store', 'requirements.txt', 'test', 'experiments', 'hpc_other', 'YOLO_demo.ipynb', 'car_detector.ipynb', 'README.md', 'image-toolkit.py', 'data.yaml', '.gitattributes', 'train', 'slurm.bash', 'animals.zip', '.git', 'upload']\n"
     ]
    }
   ],
   "source": [
    "# using requests, download zip file and extract contents\n",
    "\n",
    "# url of zipfile\n",
    "url_of_zip = 'https://ultralytics.com/assets/african-wildlife.zip'\n",
    "url_of_yaml = 'https://raw.githubusercontent.com/ultralytics/ultralytics/main/ultralytics/cfg/datasets/african-wildlife.yaml'\n",
    "\n",
    "# directory to be saved into\n",
    "wd = os.getcwd()\n",
    "zip_directory = os.path.join(wd, 'animals.zip')\n",
    "yaml_directory = os.path.join(wd, 'data.yaml')\n",
    "\n",
    "# download request\n",
    "response = requests.get(url_of_zip)\n",
    "with open(zip_directory, 'wb') as f:\n",
    "    f.write(response.content)\n",
    "\n",
    "response2 = requests.get(url_of_yaml)\n",
    "with open(yaml_directory, 'wb') as f:\n",
    "    f.write(response2.content)\n",
    "\n",
    "# use the working directory as the extraction target\n",
    "extract_to = wd  # Since we're extracting to the working directory\n",
    "\n",
    "# extract the zip file\n",
    "with zipfile.ZipFile(zip_directory, 'r') as zip_ref:\n",
    "    zip_ref.extractall(extract_to)\n",
    "\n",
    "# list extracted files\n",
    "print(f'Extracted files: {os.listdir(extract_to)}' )\n"
   ]
  },
  {
   "cell_type": "markdown",
   "metadata": {},
   "source": [
    "<b>Clear directory of training files if needed:</b>"
   ]
  },
  {
   "cell_type": "code",
   "execution_count": 4,
   "metadata": {},
   "outputs": [
    {
     "name": "stdout",
     "output_type": "stream",
     "text": [
      "The file animals.zip has been deleted.\n",
      "The file data.yaml has been deleted.\n",
      "The directory ./train has been deleted.\n",
      "The directory ./test has been deleted.\n",
      "The directory ./valid has been deleted.\n"
     ]
    }
   ],
   "source": [
    "# initialize file name\n",
    "file_name = 'animals.zip'\n",
    "file_name2 = 'data.yaml'\n",
    "\n",
    "# construct the file path\n",
    "file_path = os.path.join(os.getcwd(), file_name)\n",
    "file_path2 = os.path.join(os.getcwd(), file_name2)\n",
    "\n",
    "# delete the zip file\n",
    "if os.path.exists(file_path):\n",
    "    os.remove(file_path)\n",
    "    print(f\"The file {file_name} has been deleted.\")\n",
    "else:\n",
    "    print(f\"The file {file_name} does not exist.\")\n",
    "\n",
    "# delete the zip file\n",
    "if os.path.exists(file_path2):\n",
    "    os.remove(file_path2)\n",
    "    print(f\"The file {file_name2} has been deleted.\")\n",
    "else:\n",
    "    print(f\"The file {file_name2} does not exist.\")\n",
    "\n",
    "# list of directory paths you want to delete\n",
    "directories = [\"./train\", \"./test\", \"./valid\"]\n",
    "\n",
    "# loop through each directory in the list\n",
    "for directory_path in directories:\n",
    "\n",
    "    # check if the directory exists\n",
    "    if os.path.exists(directory_path) and os.path.isdir(directory_path):\n",
    "        \n",
    "        # use shutil.rmtree() to delete the directory\n",
    "        shutil.rmtree(directory_path)\n",
    "        print(f\"The directory {directory_path} has been deleted.\")\n",
    "\n",
    "    else:\n",
    "        print(f\"The directory {directory_path} does not exist.\")\n"
   ]
  },
  {
   "cell_type": "markdown",
   "metadata": {},
   "source": [
    "<u>Training the detection model on local machine</u>\n",
    "\n",
    "This block will train the YOLO model using your local machine. Depending on the size of the training/val data and model size, this could be too computationally intensive for your hardware; we will discuss using UARK's high performance computing center if this is the case.\n",
    "\n",
    "YOLOv8 has a handful of customizable hyperparameters you can read about here: https://docs.ultralytics.com/usage/cfg/#train-settings\n",
    "\n",
    "This code block will prompt you for a few commonly customized hyperparameters.\n",
    "\n",
    "<b>A note about batch size and optimizer:</b> using batch size = -1 will find the computationally optimal batch size for your local machine. Similarly, using optimizer = auto will do the same."
   ]
  },
  {
   "cell_type": "code",
   "execution_count": 4,
   "metadata": {},
   "outputs": [
    {
     "name": "stdout",
     "output_type": "stream",
     "text": [
      "\u001b[1mHyperparameter intialization\u001b[0m\n",
      "Enter the number of epochs: \n",
      "100\n"
     ]
    }
   ],
   "source": [
    "# prompt for hyperparameters\n",
    "print(\"\\033[1m\" + \"Hyperparameter intialization\" + \"\\033[0m\")\n",
    "\n",
    "# epochs\n",
    "print(f'Enter the number of epochs: ')\n",
    "epochs = input()\n",
    "print(epochs)\n",
    "\n",
    "# batch size\n",
    "print(f'Enter the batch size: ')\n",
    "batch_size = input()\n",
    "print(batch_size)\n",
    "\n",
    "# optimizer\n",
    "print(f'Enter the optimizer (SGD, Adam, AdamW, NAdam, RAdam, RMSProp, or auto)')\n",
    "optimizer = input()\n",
    "print()"
   ]
  },
  {
   "cell_type": "code",
   "execution_count": null,
   "metadata": {},
   "outputs": [],
   "source": [
    "# check if cuda GPU training is available. if not, set to CPU training.\n",
    "if torch.cuda.is_available():\n",
    "    device_name = torch.device(\"cuda\")\n",
    "else:\n",
    "    device_name = torch.device('cpu')\n",
    "print(\"Using {}.\".format(device_name))\n",
    "\n",
    "# load a model\n",
    "model = YOLO('yolov8n.pt')\n",
    "model.to(device_name)\n",
    "\n",
    "# prompt for hyperparameters\n",
    "print(f'Enter desired hyperparameters: ')\n",
    "print(f'Epochs: ')\n",
    "epochs = input()\n",
    "\n",
    "# train model\n",
    "results = model.train(data=\"data.yaml\", epochs=80, batch=-1, optimizer='AdamW', device=device_name, cos_lr = True)"
   ]
  },
  {
   "cell_type": "markdown",
   "metadata": {},
   "source": [
    "<b>Clear runs and trained model if needed:</b>"
   ]
  },
  {
   "cell_type": "code",
   "execution_count": null,
   "metadata": {},
   "outputs": [],
   "source": [
    "# initialize file name\n",
    "file_name = 'yolov8n.pt'\n",
    "\n",
    "# construct the file path\n",
    "file_path = os.path.join(os.getcwd(), file_name)\n",
    "\n",
    "# delete the zip file\n",
    "if os.path.exists(file_path):\n",
    "    os.remove(file_path)\n",
    "    print(f\"The file {file_name} has been deleted.\")\n",
    "else:\n",
    "    print(f\"The file {file_name} does not exist.\")\n",
    "\n",
    "# list of directory paths you want to delete\n",
    "directory_path = \"./runs\"\n",
    "\n",
    "# check if the directory exists\n",
    "if os.path.exists(directory_path) and os.path.isdir(directory_path):\n",
    "    \n",
    "    # use shutil.rmtree() to delete the directory\n",
    "    shutil.rmtree(directory_path)\n",
    "    print(f\"The directory {directory_path} has been deleted.\")\n",
    "\n",
    "else:\n",
    "    print(f\"The directory {directory_path} does not exist.\")\n"
   ]
  }
 ],
 "metadata": {
  "kernelspec": {
   "display_name": "main",
   "language": "python",
   "name": "python3"
  },
  "language_info": {
   "codemirror_mode": {
    "name": "ipython",
    "version": 3
   },
   "file_extension": ".py",
   "mimetype": "text/x-python",
   "name": "python",
   "nbconvert_exporter": "python",
   "pygments_lexer": "ipython3",
   "version": "3.8.18"
  }
 },
 "nbformat": 4,
 "nbformat_minor": 2
}
