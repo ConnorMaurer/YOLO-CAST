{
 "cells": [
  {
   "cell_type": "markdown",
   "metadata": {},
   "source": [
    "### YOLOv8 demo for CAST"
   ]
  },
  {
   "cell_type": "markdown",
   "metadata": {},
   "source": [
    "<b>Run block for required dependencies:</b>"
   ]
  },
  {
   "cell_type": "code",
   "execution_count": null,
   "metadata": {},
   "outputs": [],
   "source": [
    "# use this block to download requirements into virtual environment\n",
    "%pip install -r requirements.txt"
   ]
  },
  {
   "cell_type": "markdown",
   "metadata": {},
   "source": [
    "### <u>Import statements<u>"
   ]
  },
  {
   "cell_type": "code",
   "execution_count": 3,
   "metadata": {},
   "outputs": [],
   "source": [
    "import os\n",
    "from ultralytics import YOLO\n",
    "import cv2\n",
    "import torch\n",
    "import requests\n",
    "import zipfile\n",
    "import shutil"
   ]
  },
  {
   "cell_type": "markdown",
   "metadata": {},
   "source": [
    "### <u>Importing training dataset for demo</u>\n",
    "\n",
    "For this demo, we will be training a YOLOv8 on African wildlife imagery pulled from https://ultralytics.com/assets/african-wildlife.zip. From ultralytics, \"This dataset showcases four common animal classes typically found in South African nature reserves. It includes images of African wildlife such as buffalo, elephant, rhino, and zebra, providing valuable insights into their characteristics. Essential for training computer vision algorithms, this dataset aids in identifying animals in various habitats, from zoos to forests, and supports wildlife research.... \n",
    "\n",
    "The African wildlife objects detection dataset is split into three subsets:\n",
    "\n",
    "Training set: Contains 1052 images, each with corresponding annotations.\n",
    "Validation set: Includes 225 images, each with paired annotations.\n",
    "Testing set: Comprises 227 images, each with paired annotations.\""
   ]
  },
  {
   "cell_type": "code",
   "execution_count": 14,
   "metadata": {},
   "outputs": [
    {
     "name": "stdout",
     "output_type": "stream",
     "text": [
      "Extracted files: ['valid', 'video_test.py', 'unneeded_files', '.DS_Store', 'requirements.txt', 'test', 'experiments', 'hpc_other', 'YOLO_demo.ipynb', 'car_detector.ipynb', 'README.md', 'image-toolkit.py', 'data.yaml', '.gitattributes', 'train', 'slurm.bash', 'animals.zip', '.git', 'upload']\n"
     ]
    }
   ],
   "source": [
    "# using requests, download zip file and extract contents\n",
    "\n",
    "# url of zipfile\n",
    "url_of_zip = 'https://ultralytics.com/assets/african-wildlife.zip'\n",
    "url_of_yaml = 'https://raw.githubusercontent.com/ultralytics/ultralytics/main/ultralytics/cfg/datasets/african-wildlife.yaml'\n",
    "\n",
    "# directory to be saved into\n",
    "wd = os.getcwd()\n",
    "zip_directory = os.path.join(wd, 'animals.zip')\n",
    "yaml_directory = os.path.join(wd, 'data.yaml')\n",
    "\n",
    "# download request\n",
    "response = requests.get(url_of_zip)\n",
    "with open(zip_directory, 'wb') as f:\n",
    "    f.write(response.content)\n",
    "\n",
    "response2 = requests.get(url_of_yaml)\n",
    "with open(yaml_directory, 'wb') as f:\n",
    "    f.write(response2.content)\n",
    "\n",
    "# use the working directory as the extraction target\n",
    "extract_to = wd  # Since we're extracting to the working directory\n",
    "\n",
    "# extract the zip file\n",
    "with zipfile.ZipFile(zip_directory, 'r') as zip_ref:\n",
    "    zip_ref.extractall(extract_to)\n",
    "\n",
    "# list extracted files\n",
    "print(f'Extracted files: {os.listdir(extract_to)}' )\n"
   ]
  },
  {
   "cell_type": "markdown",
   "metadata": {},
   "source": [
    "<b>Clear directory of training files if needed:</b>"
   ]
  },
  {
   "cell_type": "code",
   "execution_count": 4,
   "metadata": {},
   "outputs": [
    {
     "name": "stdout",
     "output_type": "stream",
     "text": [
      "The file animals.zip has been deleted.\n",
      "The file data.yaml has been deleted.\n",
      "The directory ./train has been deleted.\n",
      "The directory ./test has been deleted.\n",
      "The directory ./valid has been deleted.\n"
     ]
    }
   ],
   "source": [
    "# initialize file name\n",
    "file_name = 'animals.zip'\n",
    "file_name2 = 'data.yaml'\n",
    "\n",
    "# construct the file path\n",
    "file_path = os.path.join(os.getcwd(), file_name)\n",
    "file_path2 = os.path.join(os.getcwd(), file_name2)\n",
    "\n",
    "# delete the zip file\n",
    "if os.path.exists(file_path):\n",
    "    os.remove(file_path)\n",
    "    print(f\"The file {file_name} has been deleted.\")\n",
    "else:\n",
    "    print(f\"The file {file_name} does not exist.\")\n",
    "\n",
    "# delete the zip file\n",
    "if os.path.exists(file_path2):\n",
    "    os.remove(file_path2)\n",
    "    print(f\"The file {file_name2} has been deleted.\")\n",
    "else:\n",
    "    print(f\"The file {file_name2} does not exist.\")\n",
    "\n",
    "# list of directory paths you want to delete\n",
    "directories = [\"./train\", \"./test\", \"./valid\"]\n",
    "\n",
    "# loop through each directory in the list\n",
    "for directory_path in directories:\n",
    "\n",
    "    # check if the directory exists\n",
    "    if os.path.exists(directory_path) and os.path.isdir(directory_path):\n",
    "        \n",
    "        # use shutil.rmtree() to delete the directory\n",
    "        shutil.rmtree(directory_path)\n",
    "        print(f\"The directory {directory_path} has been deleted.\")\n",
    "\n",
    "    else:\n",
    "        print(f\"The directory {directory_path} does not exist.\")\n"
   ]
  },
  {
   "cell_type": "markdown",
   "metadata": {},
   "source": [
    "### <u>Training the detection model on local machine</u>\n",
    "\n",
    "This block will train the YOLO model using your local machine. Depending on the size of the training/val data and model size, this could be too computationally intensive for your hardware; we will discuss using UARK's high performance computing center if this is the case.\n",
    "\n",
    "YOLOv8 has a handful of customizable hyperparameters you can read about here: https://docs.ultralytics.com/usage/cfg/#train-settings\n",
    "\n",
    "This code block will prompt you for a few commonly customized hyperparameters.\n",
    "\n",
    "<b>A note about batch size and optimizer:</b> using batch size = -1 will find the computationally optimal batch size for your local machine. Similarly, using optimizer = auto will do the same."
   ]
  },
  {
   "cell_type": "code",
   "execution_count": null,
   "metadata": {},
   "outputs": [],
   "source": [
    "# check if cuda GPU training is available. if not, set to CPU training.\n",
    "if torch.cuda.is_available():\n",
    "    device_name = torch.device(\"cuda\")\n",
    "else:\n",
    "    device_name = torch.device('cpu')\n",
    "print(\"Using {}.\".format(device_name))\n",
    "\n",
    "# load a model\n",
    "model = YOLO('yolov8n.pt')\n",
    "model.to(device_name)\n",
    "\n",
    "# prompt for hyperparameters\n",
    "print(\"\\033[1m\" + \"Hyperparameter intialization\" + \"\\033[0m\")\n",
    "\n",
    "# epochs\n",
    "print(f'Enter the number of epochs: ')\n",
    "epochs = input()\n",
    "print(epochs)\n",
    "\n",
    "# batch size\n",
    "print(f'Enter the batch size: ')\n",
    "batch_size = input()\n",
    "print(batch_size)\n",
    "\n",
    "# optimizer\n",
    "print(f'Enter the optimizer (SGD, Adam, AdamW, NAdam, RAdam, RMSProp, or auto): ')\n",
    "optimizer = input()\n",
    "print(optimizer)\n",
    "\n",
    "# cos_lr\n",
    "print('Enter status of cos_lr (False or True): ')\n",
    "cos_lr = input()\n",
    "print(cos_lr)\n",
    "\n",
    "# train model\n",
    "results = model.train(data=\"data.yaml\", epochs=epochs, batch=batch_size, optimizer=optimizer, cos_lr=cos_lr)"
   ]
  },
  {
   "cell_type": "markdown",
   "metadata": {},
   "source": [
    "### <u> Output of training </u>\n",
    "\n",
    "By the end of training, YOLO models provide several key outputs that give insights into the model's performance and its capability to detect objects in images.\n",
    "\n",
    "<b> Loss Function </b>\n",
    "\n",
    "The loss function is a critical output of the training process, as it quantifies how well the YOLO model is performing. YOLO's loss function is composed of several components:\n",
    "\n",
    "- **Localization Loss**: Measures how accurately the model predicts the location of bounding boxes for each detected object.\n",
    "- **Confidence Loss**: Represents the error in the confidence scores for the bounding boxes, including those boxes that do not contain objects (background).\n",
    "- **Classification Loss**: Calculates the error in predicting the class of the detected objects.\n",
    "\n",
    "Monitoring the loss function during training helps in understanding how well the model learns to detect objects and classify them. A decreasing loss over epochs indicates that the model is learning effectively.\n",
    "\n",
    "<b> Precision and Recall </b>\n",
    "\n",
    "After training, evaluating the model's performance involves looking at precision and recall metrics:\n",
    "\n",
    "- **Precision**: Indicates the accuracy of the predictions, i.e., the percentage of correct positive predictions out of all positive predictions made.\n",
    "- **Recall**: Measures the model's ability to detect all relevant instances, i.e., the percentage of correct positive predictions out of all actual positives.\n",
    "\n",
    "These metrics are crucial for understanding the trade-off between correctly detecting objects (recall) and minimizing false positives (precision).\n",
    "\n",
    "<b> mAP (Mean Average Precision) </b>\n",
    "\n",
    "mAP is a comprehensive metric used to evaluate the accuracy of object detectors like YOLO. It averages the precision-recall curve into a single value, providing an overall measure of the model's performance across all classes and IoU (Intersection over Union) thresholds. High mAP values indicate a robust model capable of accurately detecting and classifying objects across different scenarios.\n",
    "\n",
    "<b> Detection Speed </b>\n",
    "\n",
    "YOLO is designed for real-time object detection, and its detection speed (usually measured in FPS, frames per second) is a crucial output. This metric tells us how fast the model can process images to detect objects, which is vital for applications requiring real-time analysis, such as video surveillance and autonomous driving.\n",
    "\n",
    "<b> Visualization of Detections </b>\n",
    "\n",
    "Finally, visualizing the detections made by the YOLO model on test images or videos is an intuitive way to understand the model's performance. These visualizations typically include bounding boxes around detected objects, class labels, and confidence scores. They provide immediate visual feedback on how well the model can detect and classify objects in various conditions.\n"
   ]
  },
  {
   "cell_type": "markdown",
   "metadata": {},
   "source": [
    "<b>Clear runs and trained model if needed:</b>"
   ]
  },
  {
   "cell_type": "code",
   "execution_count": null,
   "metadata": {},
   "outputs": [],
   "source": [
    "# initialize file name\n",
    "file_name = 'yolov8n.pt'\n",
    "\n",
    "# construct the file path\n",
    "file_path = os.path.join(os.getcwd(), file_name)\n",
    "\n",
    "# delete the zip file\n",
    "if os.path.exists(file_path):\n",
    "    os.remove(file_path)\n",
    "    print(f\"The file {file_name} has been deleted.\")\n",
    "else:\n",
    "    print(f\"The file {file_name} does not exist.\")\n",
    "\n",
    "# list of directory paths you want to delete\n",
    "directory_path = \"./runs\"\n",
    "\n",
    "# check if the directory exists\n",
    "if os.path.exists(directory_path) and os.path.isdir(directory_path):\n",
    "    \n",
    "    # use shutil.rmtree() to delete the directory\n",
    "    shutil.rmtree(directory_path)\n",
    "    print(f\"The directory {directory_path} has been deleted.\")\n",
    "\n",
    "else:\n",
    "    print(f\"The directory {directory_path} does not exist.\")\n"
   ]
  }
 ],
 "metadata": {
  "kernelspec": {
   "display_name": "main",
   "language": "python",
   "name": "python3"
  },
  "language_info": {
   "codemirror_mode": {
    "name": "ipython",
    "version": 3
   },
   "file_extension": ".py",
   "mimetype": "text/x-python",
   "name": "python",
   "nbconvert_exporter": "python",
   "pygments_lexer": "ipython3",
   "version": "3.8.18"
  }
 },
 "nbformat": 4,
 "nbformat_minor": 2
}
